{
 "cells": [
  {
   "cell_type": "code",
   "execution_count": 50,
   "id": "d7b09757-b03d-4e0b-b0cd-5019fb8e2a0f",
   "metadata": {},
   "outputs": [
    {
     "name": "stdout",
     "output_type": "stream",
     "text": [
      "            ride_id  rideable_type           started_at             ended_at  \\\n",
      "0  743252713F32516B   classic_bike  2024-04-22 19:08:21  2024-04-22 19:12:56   \n",
      "1  BE90D33D2240C614  electric_bike  2024-04-11 06:19:24  2024-04-11 06:22:21   \n",
      "2  D47BBDDE7C40DD61   classic_bike  2024-04-20 11:13:13  2024-04-20 11:29:31   \n",
      "3  6684E760BF9EA9B5   classic_bike  2024-04-04 18:39:20  2024-04-04 18:43:06   \n",
      "4  CA9EFC0D24C24A27  electric_bike  2024-04-19 19:30:20  2024-04-19 20:07:42   \n",
      "\n",
      "           start_station_name start_station_id  \\\n",
      "0  Aberdeen St & Jackson Blvd            13157   \n",
      "1  Aberdeen St & Jackson Blvd            13157   \n",
      "2  Sheridan Rd & Montrose Ave     TA1307000107   \n",
      "3  Aberdeen St & Jackson Blvd            13157   \n",
      "4  Sheridan Rd & Montrose Ave     TA1307000107   \n",
      "\n",
      "                 end_station_name end_station_id  start_lat  start_lng  \\\n",
      "0    Desplaines St & Jackson Blvd          15539  41.877726 -87.654787   \n",
      "1    Desplaines St & Jackson Blvd          15539  41.877722 -87.654959   \n",
      "2  Ashland Ave & Belle Plaine Ave          13249  41.961670 -87.654640   \n",
      "3    Desplaines St & Jackson Blvd          15539  41.877726 -87.654787   \n",
      "4    Stetson Ave & South Water St   TA1308000029  41.961613 -87.654615   \n",
      "\n",
      "     end_lat    end_lng member_casual  \n",
      "0  41.878119 -87.643948        member  \n",
      "1  41.878119 -87.643948        member  \n",
      "2  41.956057 -87.668835        member  \n",
      "3  41.878119 -87.643948        member  \n",
      "4  41.886835 -87.622320        member  \n"
     ]
    }
   ],
   "source": [
    "import pandas as pd\n",
    "import os\n",
    "\n",
    "# Define the directory where your CSV files are located\n",
    "directory = 'datasets'\n",
    "\n",
    "# List all CSV files in the directory (assuming they all have the .csv extension)\n",
    "csv_files = [f for f in os.listdir(directory) if f.endswith('.csv')]\n",
    "\n",
    "# Create an empty list to store DataFrames\n",
    "dfs = []\n",
    "\n",
    "# Loop through the list of CSV files, read them, and append to the list\n",
    "for file in csv_files:\n",
    "    file_path = os.path.join(directory, file)  # Get the full file path\n",
    "    df = pd.read_csv(file_path)  # Read the CSV file into a DataFrame\n",
    "    dfs.append(df)  # Append the DataFrame to the list\n",
    "\n",
    "# Combine all DataFrames into a single DataFrame\n",
    "combined_df = pd.concat(dfs, ignore_index=True)  # ignore_index=True resets the index\n",
    "\n",
    "# Now you have your combined DataFrame\n",
    "print(combined_df.head())  # Display the first few rows to confirm\n"
   ]
  },
  {
   "cell_type": "code",
   "execution_count": 53,
   "id": "0e3121cd-f1c0-4d7a-b3c9-89e38086f146",
   "metadata": {},
   "outputs": [
    {
     "data": {
      "text/plain": [
       "(5906269, 13)"
      ]
     },
     "execution_count": 53,
     "metadata": {},
     "output_type": "execute_result"
    }
   ],
   "source": [
    "combined_df.shape"
   ]
  },
  {
   "cell_type": "code",
   "execution_count": 57,
   "id": "2423401c-5769-4032-99d4-7790e35b7b8b",
   "metadata": {},
   "outputs": [],
   "source": [
    "combined_df.to_csv('rides.csv', index=False)"
   ]
  },
  {
   "cell_type": "code",
   "execution_count": null,
   "id": "1d139a60-b967-4528-84d4-a1591e96ca51",
   "metadata": {},
   "outputs": [],
   "source": []
  }
 ],
 "metadata": {
  "kernelspec": {
   "display_name": "Python 3 (ipykernel)",
   "language": "python",
   "name": "python3"
  },
  "language_info": {
   "codemirror_mode": {
    "name": "ipython",
    "version": 3
   },
   "file_extension": ".py",
   "mimetype": "text/x-python",
   "name": "python",
   "nbconvert_exporter": "python",
   "pygments_lexer": "ipython3",
   "version": "3.12.6"
  }
 },
 "nbformat": 4,
 "nbformat_minor": 5
}
